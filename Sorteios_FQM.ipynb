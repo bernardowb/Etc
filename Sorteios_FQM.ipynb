{
 "cells": [
  {
   "cell_type": "markdown",
   "id": "4105452a",
   "metadata": {},
   "source": [
    "**Script de sorteios de docentes da FQM para composição de comissões, colegiados, etc.**"
   ]
  },
  {
   "cell_type": "code",
   "execution_count": null,
   "id": "0323cf87",
   "metadata": {},
   "outputs": [],
   "source": [
    "import click\n",
    "import numpy as np\n",
    "from datetime import datetimes"
   ]
  },
  {
   "cell_type": "markdown",
   "id": "47d2fce7",
   "metadata": {},
   "source": [
    "Cria semente do gerador de números aleatórios (microsegundos do instante atual):"
   ]
  },
  {
   "cell_type": "code",
   "execution_count": null,
   "id": "9c0c638f",
   "metadata": {},
   "outputs": [],
   "source": [
    "now = datetime.now()\n",
    "rng_seed = now.microsecond\n",
    "print(click.style(f'Instante = ', fg='white', bold=True) + f'{now}')\n",
    "print(click.style(f'Semente = ', fg='white', bold=True) + f'{rng_seed}')"
   ]
  },
  {
   "cell_type": "code",
   "execution_count": null,
   "id": "758166fa",
   "metadata": {},
   "outputs": [],
   "source": [
    "# define o gerador de números aleatórios com a semente acima\n",
    "rng = np.random.default_rng(seed=rng_seed)"
   ]
  },
  {
   "cell_type": "markdown",
   "id": "bcc00464",
   "metadata": {},
   "source": [
    "Dicionário com nome de docentes indicáveis da FQM em ordem alfabética (com seus respectivos índices nas *keys*, de 0 a $n_{\\text{i}}-1$):"
   ]
  },
  {
   "cell_type": "code",
   "execution_count": null,
   "id": "c3f765fb",
   "metadata": {},
   "outputs": [],
   "source": [
    "names = {0:'Agenor',\n",
    "         1:'Belchior',\n",
    "         2:'Marcelo Zannin',\n",
    "         3:'Marcia',\n",
    "         4:'Regina'}"
   ]
  },
  {
   "cell_type": "markdown",
   "id": "919a6f37",
   "metadata": {},
   "source": [
    "Definição do número de docentes a serem sorteados $n_{\\text{s}}$:"
   ]
  },
  {
   "cell_type": "code",
   "execution_count": null,
   "id": "0c7b635f",
   "metadata": {},
   "outputs": [],
   "source": [
    "numind = len(names) # número de docentes indicáveis na FQM\n",
    "numsor = 1          # número de docentes da FQM no sorteio\n",
    "print(click.style(f'n_i = ', fg='white', bold=True) + f'{numind}')\n",
    "print(click.style(f'n_s = ', fg='white', bold=True) + f'{numsor}')"
   ]
  },
  {
   "cell_type": "markdown",
   "id": "89e8dc0d",
   "metadata": {},
   "source": [
    "Gera aleaoriamente (sem repetição) $n_{\\text{s}}$ números no intervalo [0, $n_{\\text{i}}-1$]:"
   ]
  },
  {
   "cell_type": "code",
   "execution_count": null,
   "id": "94b089aa",
   "metadata": {},
   "outputs": [],
   "source": [
    "rngarr = rng.choice(numind, size=numsor, replace=False)\n",
    "print(click.style(f'Lista de índices sorteados = ', fg='red', bold=True) + f'{rngarr}')"
   ]
  },
  {
   "cell_type": "code",
   "execution_count": null,
   "id": "0c485ce6",
   "metadata": {},
   "outputs": [],
   "source": [
    "print(click.style(f'Lista de docentes sorteada:', fg='green', bold=True))\n",
    "for ii, nn in enumerate(rngarr):\n",
    "    print(click.style(f'{ii+1}. {names[nn]}', fg='green', bold=False))"
   ]
  },
  {
   "cell_type": "markdown",
   "id": "b73ba81f",
   "metadata": {},
   "source": [
    "\n",
    "**Documentação:**\n",
    "\n",
    "* https://docs.python.org/3/library/datetime.html#datetime.datetime.now\n",
    "\n",
    "* https://docs.python.org/3/library/datetime.html#datetime.datetime.microsecond\n",
    "\n",
    "* https://numpy.org/doc/stable/reference/random/generator.html#numpy.random.default_rng\n",
    "\n",
    "* https://numpy.org/doc/stable/reference/random/generated/numpy.random.Generator.choice.html\n"
   ]
  }
 ],
 "metadata": {
  "kernelspec": {
   "display_name": "Python 3.9.12 ('astroenv')",
   "language": "python",
   "name": "python3"
  },
  "language_info": {
   "codemirror_mode": {
    "name": "ipython",
    "version": 3
   },
   "file_extension": ".py",
   "mimetype": "text/x-python",
   "name": "python",
   "nbconvert_exporter": "python",
   "pygments_lexer": "ipython3",
   "version": "3.9.13"
  },
  "vscode": {
   "interpreter": {
    "hash": "9e5776e57ecb0a8839b74b27abab2d907e683743760b9ffc8598d8fd879709d1"
   }
  }
 },
 "nbformat": 4,
 "nbformat_minor": 5
}
