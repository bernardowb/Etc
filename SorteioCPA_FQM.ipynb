{
 "cells": [
  {
   "cell_type": "markdown",
   "id": "4105452a",
   "metadata": {},
   "source": [
    "**Sorteio para composição da CPA da FQM (Correspondência 70/SAA/DCOM/2021)**"
   ]
  },
  {
   "cell_type": "code",
   "execution_count": 1,
   "id": "0323cf87",
   "metadata": {},
   "outputs": [],
   "source": [
    "import click\n",
    "import numpy as np\n",
    "from datetime import datetime"
   ]
  },
  {
   "cell_type": "markdown",
   "id": "47d2fce7",
   "metadata": {},
   "source": [
    "Cria semente do gerador de números aleatórios (microsegundos do instante atual):"
   ]
  },
  {
   "cell_type": "code",
   "execution_count": 2,
   "id": "9c0c638f",
   "metadata": {},
   "outputs": [
    {
     "name": "stdout",
     "output_type": "stream",
     "text": [
      "\u001b[30m\u001b[1mInstante = \u001b[0m2021-08-03 14:10:55.708750\n",
      "\u001b[30m\u001b[1mSemente = \u001b[0m708750\n"
     ]
    }
   ],
   "source": [
    "now = datetime.now()\n",
    "rng_seed = now.microsecond\n",
    "print(click.style(f'Instante = ', fg='black', bold=True) + f'{now}')\n",
    "print(click.style(f'Semente = ', fg='black', bold=True) + f'{rng_seed}')"
   ]
  },
  {
   "cell_type": "code",
   "execution_count": 3,
   "id": "758166fa",
   "metadata": {},
   "outputs": [],
   "source": [
    "rng = np.random.default_rng(seed=rng_seed)"
   ]
  },
  {
   "cell_type": "markdown",
   "id": "bcc00464",
   "metadata": {},
   "source": [
    "Dicionário com nome de docentes indicáveis da FQM em ordem alfabética (com seus respectivos índices nas *keys*, de 0 a 7):"
   ]
  },
  {
   "cell_type": "code",
   "execution_count": 4,
   "id": "c3f765fb",
   "metadata": {},
   "outputs": [],
   "source": [
    "names = {0:'Agenor',\n",
    "         1:'Evy',\n",
    "         2:'Leandro',\n",
    "         3:'Marcelo Freitas',\n",
    "         4:'Marcelo Zannin',\n",
    "         5:'Marcia',\n",
    "         6:'Mauricio',\n",
    "         7:'Regina'}"
   ]
  },
  {
   "cell_type": "code",
   "execution_count": 5,
   "id": "0c7b635f",
   "metadata": {},
   "outputs": [
    {
     "name": "stdout",
     "output_type": "stream",
     "text": [
      "\u001b[30m\u001b[1mnumdoc = \u001b[0m8\n"
     ]
    }
   ],
   "source": [
    "numdoc = len(names) # número de docentes indicávais na FQM\n",
    "numcpa = 3          # número de docentes da FQM na CPA\n",
    "print(click.style(f'numdoc = ', fg='black', bold=True) + f'{numdoc}')"
   ]
  },
  {
   "cell_type": "markdown",
   "id": "89e8dc0d",
   "metadata": {},
   "source": [
    "Gera aleaoriamente (sem repetição) 3 números no intervalo [0, numdoc-1]:"
   ]
  },
  {
   "cell_type": "code",
   "execution_count": 6,
   "id": "94b089aa",
   "metadata": {},
   "outputs": [
    {
     "name": "stdout",
     "output_type": "stream",
     "text": [
      "\u001b[31m\u001b[1mLista de índices sorteada = \u001b[0m[3 0 6]\n"
     ]
    }
   ],
   "source": [
    "rngarr = rng.choice(numdoc, size=numcpa, replace=False)\n",
    "print(click.style(f'Lista de índices sorteada = ', fg='red', bold=True) + f'{rngarr}')"
   ]
  },
  {
   "cell_type": "code",
   "execution_count": 7,
   "id": "0c485ce6",
   "metadata": {},
   "outputs": [
    {
     "name": "stdout",
     "output_type": "stream",
     "text": [
      "\u001b[32m\u001b[1mLista de docentes sorteada:\u001b[0m\n",
      "\u001b[32m\u001b[22m1. Marcelo Freitas (Presidente)\u001b[0m\n",
      "\u001b[32m\u001b[22m2. Agenor (Membro I)\u001b[0m\n",
      "\u001b[32m\u001b[22m3. Mauricio (Membro II)\u001b[0m\n"
     ]
    }
   ],
   "source": [
    "print(click.style(f'Lista de docentes sorteada:', fg='green', bold=True))\n",
    "role = ['Presidente', 'Membro I', 'Membro II']\n",
    "for ii, nn in enumerate(rngarr):\n",
    "    print(click.style(f'{ii+1}. {names[nn]} ({role[ii]})', fg='green', bold=False))"
   ]
  },
  {
   "cell_type": "markdown",
   "id": "b73ba81f",
   "metadata": {},
   "source": [
    "\n",
    "**Documentação:**\n",
    "\n",
    "* https://docs.python.org/3/library/datetime.html#datetime.datetime.now\n",
    "\n",
    "* https://docs.python.org/3/library/datetime.html#datetime.datetime.microsecond\n",
    "\n",
    "* https://numpy.org/doc/stable/reference/random/generator.html#numpy.random.default_rng\n",
    "\n",
    "* https://numpy.org/doc/stable/reference/random/generated/numpy.random.Generator.choice.html\n"
   ]
  }
 ],
 "metadata": {
  "kernelspec": {
   "display_name": "Python 3",
   "language": "python",
   "name": "python3"
  },
  "language_info": {
   "codemirror_mode": {
    "name": "ipython",
    "version": 3
   },
   "file_extension": ".py",
   "mimetype": "text/x-python",
   "name": "python",
   "nbconvert_exporter": "python",
   "pygments_lexer": "ipython3",
   "version": "3.9.4"
  }
 },
 "nbformat": 4,
 "nbformat_minor": 5
}
