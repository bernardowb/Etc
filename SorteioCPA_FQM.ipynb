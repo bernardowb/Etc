{
 "cells": [
  {
   "cell_type": "markdown",
   "id": "dfdbca25",
   "metadata": {},
   "source": [
    "**Sorteio para composição da CPA da FQM (Correspondência 70/SAA/DCOM/2021)**"
   ]
  },
  {
   "cell_type": "code",
   "execution_count": null,
   "id": "502ff6cc",
   "metadata": {},
   "outputs": [],
   "source": [
    "import click\n",
    "import numpy as np\n",
    "from datetime import datetime"
   ]
  },
  {
   "cell_type": "markdown",
   "id": "201770b5",
   "metadata": {},
   "source": [
    "Cria semente do gerador de números aleatórios (microsegundos do instante atual):"
   ]
  },
  {
   "cell_type": "code",
   "execution_count": null,
   "id": "2312bcbf",
   "metadata": {},
   "outputs": [],
   "source": [
    "now = datetime.now()\n",
    "rng_seed = now.microsecond\n",
    "print(click.style(f'Instante = ', fg='black', bold=True) + f'{now}')\n",
    "print(click.style(f'Semente = ', fg='black', bold=True) + f'{rng_seed}')"
   ]
  },
  {
   "cell_type": "code",
   "execution_count": null,
   "id": "57dd9deb",
   "metadata": {},
   "outputs": [],
   "source": [
    "rng = np.random.default_rng(seed=rng_seed)"
   ]
  },
  {
   "cell_type": "markdown",
   "id": "65eee9c6",
   "metadata": {},
   "source": [
    "Dicionário com nome de docentes indicáveis da FQM em ordem alfabética (com seus respectivos índices nas *keys*, de 0 a 7):"
   ]
  },
  {
   "cell_type": "code",
   "execution_count": null,
   "id": "f917c49b",
   "metadata": {},
   "outputs": [],
   "source": [
    "names = {0:'Agenor',\n",
    "         1:'Evy',\n",
    "         2:'Leandro',\n",
    "         3:'Marcelo Freitas',\n",
    "         4:'Marcelo Zannin',\n",
    "         5:'Marcia',\n",
    "         6:'Mauricio',\n",
    "         7:'Regina'}"
   ]
  },
  {
   "cell_type": "code",
   "execution_count": null,
   "id": "df565d17",
   "metadata": {},
   "outputs": [],
   "source": [
    "numdoc = len(names) # número de docentes indicávais na FQM\n",
    "numcpa = 3          # número de docentes da FQM na CPA\n",
    "print(click.style(f'numdoc = ', fg='black', bold=True) + f'{numdoc}')"
   ]
  },
  {
   "cell_type": "markdown",
   "id": "08280467",
   "metadata": {},
   "source": [
    "Gera aleaoriamente (sem repetição) 3 números no intervalo [0, numdoc-1]:"
   ]
  },
  {
   "cell_type": "code",
   "execution_count": null,
   "id": "5d15d448",
   "metadata": {},
   "outputs": [],
   "source": [
    "rngarr = rng.choice(numdoc, size=numcpa, replace=False)\n",
    "print(click.style(f'Lista de índices sorteada = ', fg='red', bold=True) + f'{rngarr}')"
   ]
  },
  {
   "cell_type": "code",
   "execution_count": null,
   "id": "28a94b81",
   "metadata": {},
   "outputs": [],
   "source": [
    "print(click.style(f'Lista de docentes sorteada:', fg='green', bold=True))\n",
    "role = ['Presidente', 'Membro I', 'Membro II']\n",
    "for ii, nn in enumerate(rngarr):\n",
    "    print(click.style(f'{ii+1}. {names[nn]} ({role[ii]})', fg='green', bold=False))"
   ]
  },
  {
   "cell_type": "markdown",
   "id": "3aabb61d",
   "metadata": {},
   "source": [
    "***\n",
    "**Documentação:**\n",
    "\n",
    "* https://docs.python.org/3/library/datetime.html#datetime.datetime.now\n",
    "\n",
    "* https://docs.python.org/3/library/datetime.html#datetime.datetime.microsecond\n",
    "\n",
    "* https://numpy.org/doc/stable/reference/random/generator.html#numpy.random.default_rng\n",
    "\n",
    "* https://numpy.org/doc/stable/reference/random/generated/numpy.random.Generator.choice.html\n",
    "***"
   ]
  },
  {
   "cell_type": "code",
   "execution_count": null,
   "id": "d3370ea5",
   "metadata": {},
   "outputs": [],
   "source": []
  }
 ],
 "metadata": {
  "kernelspec": {
   "display_name": "Python 3",
   "language": "python",
   "name": "python3"
  },
  "language_info": {
   "codemirror_mode": {
    "name": "ipython",
    "version": 3
   },
   "file_extension": ".py",
   "mimetype": "text/x-python",
   "name": "python",
   "nbconvert_exporter": "python",
   "pygments_lexer": "ipython3",
   "version": "3.9.4"
  }
 },
 "nbformat": 4,
 "nbformat_minor": 5
}
